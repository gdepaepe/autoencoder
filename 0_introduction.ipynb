{
 "cells": [
  {
   "cell_type": "markdown",
   "id": "42837027-ef0c-4c32-8f77-c30f88f22e59",
   "metadata": {},
   "source": [
    "# Introduction\n",
    "This project is using Jupyter Lab as a tool for coding and documenting. Several notebooks are used:\n",
    "- 0. Introduction: this notebook\n",
    "- 1. Data preparation: loading, cuting zone of interest, scaling and saving the data in a numpy file"
   ]
  }
 ],
 "metadata": {
  "kernelspec": {
   "display_name": "Python 3 (ipykernel)",
   "language": "python",
   "name": "python3"
  },
  "language_info": {
   "codemirror_mode": {
    "name": "ipython",
    "version": 3
   },
   "file_extension": ".py",
   "mimetype": "text/x-python",
   "name": "python",
   "nbconvert_exporter": "python",
   "pygments_lexer": "ipython3",
   "version": "3.8.10"
  }
 },
 "nbformat": 4,
 "nbformat_minor": 5
}
