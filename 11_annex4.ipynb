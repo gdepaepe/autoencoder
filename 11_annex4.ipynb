{
 "cells": [
  {
   "cell_type": "markdown",
   "id": "91164378-8af1-45c7-9896-b873ebee0f09",
   "metadata": {},
   "source": [
    "# 11. Annex 4: Principal Component Analysis"
   ]
  },
  {
   "cell_type": "markdown",
   "id": "92e34ff6-bde2-43b9-b45c-2ab14cf9df7d",
   "metadata": {},
   "source": [
    "## 11.1 Set environment\n",
    "We load the decomposition module from sklearn. We also import pickle as we will use it to save the PCA components."
   ]
  },
  {
   "cell_type": "code",
   "execution_count": 1,
   "id": "35ad8b05-e8bc-4e21-9dfc-50e2a76b21c8",
   "metadata": {},
   "outputs": [],
   "source": [
    "import numpy as np\n",
    "from sklearn import decomposition\n",
    "import pickle as pk\n",
    "# Set location of data file\n",
    "file=\"data/era20c.npy\"\n",
    "data = np.load(file)\n",
    "data = data.reshape(data.shape[0], data.shape[1]*data.shape[2]*data.shape[3])"
   ]
  },
  {
   "cell_type": "markdown",
   "id": "da25e465-2465-40e2-9cf9-b805e9bc9d75",
   "metadata": {},
   "source": [
    "## 11.2 Principle Component Analysis\n",
    "We start with setting the number of components to 4096, so we can check how much variance the first n componets are accountable for. We want to test the same compression factor as the autoencoder, so we will use 32 components."
   ]
  },
  {
   "cell_type": "code",
   "execution_count": 2,
   "id": "8758bccd-be02-4ab4-9d62-5de6896c3e1a",
   "metadata": {},
   "outputs": [
    {
     "data": {
      "text/plain": [
       "PCA(n_components=32)"
      ]
     },
     "execution_count": 2,
     "metadata": {},
     "output_type": "execute_result"
    }
   ],
   "source": [
    "pca = decomposition.PCA(n_components=32)\n",
    "pca.fit(data)"
   ]
  },
  {
   "cell_type": "markdown",
   "id": "a323382b-6308-43c4-b767-18a9b693c8cd",
   "metadata": {},
   "source": [
    "How much variance are these accountable for?"
   ]
  },
  {
   "cell_type": "code",
   "execution_count": 3,
   "id": "835a6b85-dc56-4215-b329-78b475313e2c",
   "metadata": {},
   "outputs": [
    {
     "data": {
      "text/plain": [
       "0.9649564068359819"
      ]
     },
     "execution_count": 3,
     "metadata": {},
     "output_type": "execute_result"
    }
   ],
   "source": [
    "pca.explained_variance_ratio_.sum()"
   ]
  },
  {
   "cell_type": "markdown",
   "id": "4d0019ba-ec6a-4407-b8a0-8c77e25ebcd2",
   "metadata": {},
   "source": [
    "Save the PCA components."
   ]
  },
  {
   "cell_type": "code",
   "execution_count": 4,
   "id": "9a81abd7-d140-482e-ad0f-fe34a8380895",
   "metadata": {},
   "outputs": [],
   "source": [
    "with open('data/pca.pkl', 'wb') as pickle_file:\n",
    "    pk.dump(pca, pickle_file)"
   ]
  },
  {
   "cell_type": "markdown",
   "id": "688191ec-4286-40ee-bd69-3fe5a828f8aa",
   "metadata": {},
   "source": [
    "## 11.3 Feature reduction using PCA\n",
    "Let's reduce our section of the ERA-20C dataset."
   ]
  },
  {
   "cell_type": "code",
   "execution_count": 5,
   "id": "3ab8e06c-f1ce-4200-9e05-0d020bcfe31c",
   "metadata": {},
   "outputs": [],
   "source": [
    "with open('data/pca.pkl', 'rb') as pickle_file:\n",
    "    pca = pk.load(pickle_file)\n",
    "data_reduced = pca.transform(data) \n",
    "np.save(\"data/era20c_pca.npy\", data_reduced)"
   ]
  },
  {
   "cell_type": "markdown",
   "id": "8c1238a7-eed5-457f-a289-b546253b7820",
   "metadata": {},
   "source": [
    "## 11.4 Search with the PCA reduced dataset"
   ]
  },
  {
   "cell_type": "code",
   "execution_count": 6,
   "id": "78f259d1-858a-463f-a82f-4659a6d41492",
   "metadata": {},
   "outputs": [],
   "source": [
    "import numpy as np\n",
    "import matplotlib.pyplot as plt\n",
    "from isoplot import isoplot\n",
    "\n",
    "# load data\n",
    "era20c = np.load(\"data/era20c.npy\")\n",
    "compressed = np.load(\"data/era20c_pca.npy\")\n",
    "dates = np.load(\"data/dates.npy\")\n",
    "scale = np.load(\"data/scale.npy\")\n",
    "zone = np.load(\"data/zone.npy\")\n",
    "msl = np.load(\"data/msl.npy\")\n",
    "z500 = np.load(\"data/z500.npy\")\n",
    "\n",
    "# reshaping 2 spatial dimensions to 1, to be able to use the numpy norm\n",
    "shape1 = era20c.shape[1]\n",
    "shape2 = era20c.shape[2]\n",
    "grid_points = shape1 * shape2\n",
    "grid_sqrt = np.sqrt(grid_points) \n",
    "era20c = era20c.reshape(era20c.shape[0],grid_points,era20c.shape[3])"
   ]
  },
  {
   "cell_type": "code",
   "execution_count": 7,
   "id": "7edfcbba-d930-4c93-9873-bc35e0f4f807",
   "metadata": {},
   "outputs": [
    {
     "name": "stdout",
     "output_type": "stream",
     "text": [
      "Index\tDate\t\tCompr.Dist.\tUncompr.Dist.\tMSL Dist.[Pa]\tZ500 Dist.[m**2/s**2]\n",
      "32896\t1990 1 25\t0.000\t\t0.000\t\t0\t\t0\n",
      "23757\t1965 1 17\t2.596\t\t3.086\t\t715\t\t604\n",
      "36154\t1998 12 27\t2.831\t\t3.307\t\t732\t\t699\n",
      "32142\t1988 1 2\t2.942\t\t3.450\t\t802\t\t672\n",
      "33239\t1991 1 3\t2.960\t\t3.445\t\t738\t\t760\n",
      "31493\t1986 3 24\t3.023\t\t3.340\t\t691\t\t768\n",
      "32180\t1988 2 9\t3.125\t\t3.664\t\t852\t\t713\n",
      "32913\t1990 2 11\t3.186\t\t3.791\t\t796\t\t857\n",
      "32897\t1990 1 26\t3.205\t\t3.571\t\t851\t\t661\n",
      "30693\t1984 1 14\t3.407\t\t3.731\t\t771\t\t859\n",
      "36174\t1999 1 16\t3.436\t\t3.807\t\t799\t\t862\n",
      "31432\t1986 1 22\t3.460\t\t3.826\t\t778\t\t895\n",
      "3301\t1909 1 15\t3.579\t\t3.959\t\t870\t\t845\n",
      "22252\t1960 12 4\t3.589\t\t3.930\t\t814\t\t902\n",
      "33241\t1991 1 5\t3.656\t\t4.024\t\t853\t\t901\n",
      "20801\t1956 12 14\t3.692\t\t4.050\t\t886\t\t870\n",
      "24912\t1968 3 17\t3.705\t\t4.196\t\t944\t\t865\n",
      "8086\t1922 2 21\t3.713\t\t3.985\t\t1015\t\t610\n",
      "32895\t1990 1 24\t3.721\t\t4.062\t\t878\t\t886\n",
      "33939\t1992 12 3\t3.737\t\t4.093\t\t905\t\t866\n",
      "3300\t1909 1 14\t3.753\t\t4.141\t\t913\t\t880\n",
      "4325\t1911 11 5\t3.797\t\t4.111\t\t686\t\t1110\n",
      "5889\t1916 2 16\t3.840\t\t4.169\t\t929\t\t873\n",
      "39056\t2006 12 7\t3.856\t\t4.181\t\t806\t\t1028\n",
      "10967\t1930 1 11\t3.865\t\t4.126\t\t851\t\t952\n"
     ]
    }
   ],
   "source": [
    "# set the reference date here\n",
    "date = \"1990 1 25\"\n",
    "#date = \"1953 1 31\"\n",
    "#date = \"1976 1 2\"\n",
    "#date = \"1976 8 1\"\n",
    "#date = \"2003 8 10\"\n",
    "\n",
    "# corresponding reference data\n",
    "date_index = np.where(dates == date)\n",
    "compressed_ref = compressed[date_index]\n",
    "era20c_ref = era20c[date_index]\n",
    "msl_ref = msl[date_index]\n",
    "z500_ref = z500[date_index]\n",
    "\n",
    "# initialize arrays\n",
    "compressed_dist = np.zeros(dates.shape[0])\n",
    "msl_dist = np.zeros(dates.shape[0])\n",
    "z500_dist = np.zeros(dates.shape[0])\n",
    "era20c_dist = np.zeros(dates.shape[0])\n",
    "\n",
    "# calculate distances\n",
    "for i in range(dates.shape[0]):\n",
    "    compressed_dist[i] = np.linalg.norm(compressed[i]-compressed_ref)\n",
    "    era20c_dist[i] = np.linalg.norm(era20c[i]-era20c_ref)\n",
    "    msl_dist[i] = np.linalg.norm(msl[i]-msl_ref) / grid_sqrt\n",
    "    z500_dist[i] = np.linalg.norm(z500[i]-z500_ref) / grid_sqrt\n",
    "\n",
    "# smallest distances\n",
    "smallest_compressed = np.argsort(compressed_dist)[:25]\n",
    "print(\"Index\\tDate\\t\\tCompr.Dist.\\tUncompr.Dist.\\tMSL Dist.[Pa]\\tZ500 Dist.[m**2/s**2]\")\n",
    "for i in smallest_compressed:\n",
    "    print(\"%d\\t%s\\t%.3f\\t\\t%.3f\\t\\t%.0f\\t\\t%.0f\" % (i,dates[i],compressed_dist[i],era20c_dist[i],msl_dist[i],z500_dist[i]))"
   ]
  },
  {
   "cell_type": "code",
   "execution_count": 8,
   "id": "cdcfa417-c62e-400c-935d-c0a3a078a3fa",
   "metadata": {},
   "outputs": [
    {
     "data": {
      "image/png": "[encoded data removed]",
      "text/plain": [
       "<Figure size 432x432 with 1 Axes>"
      ]
     },
     "metadata": {
      "needs_background": "light"
     },
     "output_type": "display_data"
    },
    {
     "name": "stdout",
     "output_type": "stream",
     "text": [
      "Pearson correlation coefficient: 1.000\n"
     ]
    }
   ],
   "source": [
    "plt.rcParams[\"figure.figsize\"] = (6,6)\n",
    "plt.scatter(compressed_dist, era20c_dist, s=5)\n",
    "plt.ylabel(\"Uncompressed distance\")\n",
    "plt.xlabel(\"Compressed distance\")\n",
    "plt.title(\"Euclidean distance between all days and reference date \" + date)\n",
    "plt.show()\n",
    "print(\"Pearson correlation coefficient: %.3f\" % np.corrcoef(compressed_dist,era20c_dist)[0,1])"
   ]
  },
  {
   "cell_type": "code",
   "execution_count": 9,
   "id": "db6c6d4b-19db-40d9-91da-afb2b6cef888",
   "metadata": {},
   "outputs": [
    {
     "data": {
      "image/png": "[encoded data removed]",
      "text/plain": [
       "<Figure size 432x432 with 1 Axes>"
      ]
     },
     "metadata": {
      "needs_background": "light"
     },
     "output_type": "display_data"
    },
    {
     "name": "stdout",
     "output_type": "stream",
     "text": [
      "Pearson correlation coefficient: 0.787\n"
     ]
    }
   ],
   "source": [
    "plt.rcParams[\"figure.figsize\"] = (6,6)\n",
    "plt.scatter(compressed_dist, msl_dist, s=5)\n",
    "plt.ylabel(\"MSL distance [Pa]\")\n",
    "plt.xlabel(\"Compressed distance\")\n",
    "plt.title(\"Euclidean distance between all days and reference date \" + date)\n",
    "plt.show()\n",
    "print(\"Pearson correlation coefficient: %.3f\" % np.corrcoef(compressed_dist,msl_dist)[0,1])"
   ]
  },
  {
   "cell_type": "code",
   "execution_count": 10,
   "id": "d3356366-9d44-41ad-abd7-b96d799b44cc",
   "metadata": {},
   "outputs": [
    {
     "data": {
      "image/png": "[encoded data removed]",
      "text/plain": [
       "<Figure size 432x432 with 1 Axes>"
      ]
     },
     "metadata": {
      "needs_background": "light"
     },
     "output_type": "display_data"
    },
    {
     "name": "stdout",
     "output_type": "stream",
     "text": [
      "Pearson correlation coefficient: 0.931\n"
     ]
    }
   ],
   "source": [
    "plt.rcParams[\"figure.figsize\"] = (6,6)\n",
    "plt.scatter(compressed_dist, z500_dist, s=5)\n",
    "plt.ylabel(\"Z500 distance [m**2/s**2]\")\n",
    "plt.xlabel(\"Compressed distance\")\n",
    "plt.title(\"Euclidean distance between all days and reference date \" + date)\n",
    "plt.show()\n",
    "print(\"Pearson correlation coefficient: %.3f\" % np.corrcoef(compressed_dist,z500_dist)[0,1])"
   ]
  },
  {
   "cell_type": "markdown",
   "id": "223060ad-35f1-4de8-8808-eff1429f3089",
   "metadata": {},
   "source": [
    "## 4.6 Mean Correlation between distances\n",
    "Again, we will calculate the correlations for sample of 100 random days."
   ]
  },
  {
   "cell_type": "code",
   "execution_count": 11,
   "id": "3e75c30a-8791-44e1-a02c-837aa6860834",
   "metadata": {},
   "outputs": [],
   "source": [
    "sample_size = 100\n",
    "rand_indices = np.random.randint(era20c.shape[0],size=sample_size)\n",
    "corr =  np.zeros(sample_size)\n",
    "corr_msl =  np.zeros(sample_size)\n",
    "corr_z500 =  np.zeros(sample_size)\n",
    "for i in range(sample_size):\n",
    "    date_index = rand_indices[i]\n",
    "    compressed_ref = compressed[date_index]\n",
    "    era20c_ref = era20c[date_index]\n",
    "    msl_ref = msl[date_index]\n",
    "    z500_ref = z500[date_index]\n",
    "\n",
    "    # initialize arrays\n",
    "    compressed_dist = np.zeros(dates.shape[0])\n",
    "    msl_dist = np.zeros(dates.shape[0])\n",
    "    z500_dist = np.zeros(dates.shape[0])\n",
    "    era20c_dist = np.zeros(dates.shape[0])\n",
    "\n",
    "    # calculate distances\n",
    "    for j in range(dates.shape[0]):\n",
    "        compressed_dist[j] = np.linalg.norm(compressed[j]-compressed_ref)\n",
    "        era20c_dist[j] = np.linalg.norm(era20c[j]-era20c_ref)\n",
    "        msl_dist[j] = np.linalg.norm(msl[j]-msl_ref) / grid_sqrt\n",
    "        z500_dist[j] = np.linalg.norm(z500[j]-z500_ref) / grid_sqrt\n",
    "        \n",
    "    # calculate correlation coefficients\n",
    "    corr[i] = np.corrcoef(compressed_dist,era20c_dist)[0,1]\n",
    "    corr_msl[i] = np.corrcoef(compressed_dist,msl_dist)[0,1]\n",
    "    corr_z500[i] = np.corrcoef(compressed_dist,z500_dist)[0,1]"
   ]
  },
  {
   "cell_type": "code",
   "execution_count": 12,
   "id": "4cce17e1-0517-411a-ab81-d30e1e3975be",
   "metadata": {},
   "outputs": [
    {
     "data": {
      "text/html": [
       "<div>\n",
       "<style scoped>\n",
       "    .dataframe tbody tr th:only-of-type {\n",
       "        vertical-align: middle;\n",
       "    }\n",
       "\n",
       "    .dataframe tbody tr th {\n",
       "        vertical-align: top;\n",
       "    }\n",
       "\n",
       "    .dataframe thead th {\n",
       "        text-align: right;\n",
       "    }\n",
       "</style>\n",
       "<table border=\"1\" class=\"dataframe\">\n",
       "  <thead>\n",
       "    <tr style=\"text-align: right;\">\n",
       "      <th></th>\n",
       "      <th>corr</th>\n",
       "      <th>corr_msl</th>\n",
       "      <th>corr_z500</th>\n",
       "    </tr>\n",
       "  </thead>\n",
       "  <tbody>\n",
       "    <tr>\n",
       "      <th>count</th>\n",
       "      <td>100.000</td>\n",
       "      <td>100.000</td>\n",
       "      <td>100.000</td>\n",
       "    </tr>\n",
       "    <tr>\n",
       "      <th>mean</th>\n",
       "      <td>1.000</td>\n",
       "      <td>0.744</td>\n",
       "      <td>0.934</td>\n",
       "    </tr>\n",
       "    <tr>\n",
       "      <th>std</th>\n",
       "      <td>0.000</td>\n",
       "      <td>0.170</td>\n",
       "      <td>0.053</td>\n",
       "    </tr>\n",
       "    <tr>\n",
       "      <th>min</th>\n",
       "      <td>0.999</td>\n",
       "      <td>0.182</td>\n",
       "      <td>0.755</td>\n",
       "    </tr>\n",
       "    <tr>\n",
       "      <th>25%</th>\n",
       "      <td>1.000</td>\n",
       "      <td>0.623</td>\n",
       "      <td>0.906</td>\n",
       "    </tr>\n",
       "    <tr>\n",
       "      <th>50%</th>\n",
       "      <td>1.000</td>\n",
       "      <td>0.817</td>\n",
       "      <td>0.940</td>\n",
       "    </tr>\n",
       "    <tr>\n",
       "      <th>75%</th>\n",
       "      <td>1.000</td>\n",
       "      <td>0.882</td>\n",
       "      <td>0.981</td>\n",
       "    </tr>\n",
       "    <tr>\n",
       "      <th>max</th>\n",
       "      <td>1.000</td>\n",
       "      <td>0.939</td>\n",
       "      <td>0.991</td>\n",
       "    </tr>\n",
       "  </tbody>\n",
       "</table>\n",
       "</div>"
      ],
      "text/plain": [
       "         corr  corr_msl  corr_z500\n",
       "count 100.000   100.000    100.000\n",
       "mean    1.000     0.744      0.934\n",
       "std     0.000     0.170      0.053\n",
       "min     0.999     0.182      0.755\n",
       "25%     1.000     0.623      0.906\n",
       "50%     1.000     0.817      0.940\n",
       "75%     1.000     0.882      0.981\n",
       "max     1.000     0.939      0.991"
      ]
     },
     "execution_count": 12,
     "metadata": {},
     "output_type": "execute_result"
    }
   ],
   "source": [
    "import pandas as pd\n",
    "pd.options.display.float_format = '{:.3f}'.format\n",
    "pd_corr = pd.DataFrame(corr, columns=['corr'])\n",
    "pd_corr['corr_msl'] = pd.DataFrame(corr_msl, columns=['corr'])\n",
    "pd_corr['corr_z500'] = pd.DataFrame(corr_z500, columns=['corr'])\n",
    "pd_corr.describe()"
   ]
  },
  {
   "cell_type": "code",
   "execution_count": 13,
   "id": "510e3b9c-ae7c-46cb-b156-0ee2c8a5f89d",
   "metadata": {},
   "outputs": [
    {
     "data": {
      "text/plain": [
       "corr        0.000\n",
       "corr_msl    0.017\n",
       "corr_z500   0.005\n",
       "dtype: float64"
      ]
     },
     "execution_count": 13,
     "metadata": {},
     "output_type": "execute_result"
    }
   ],
   "source": [
    "pd_corr.std()/np.sqrt(sample_size) "
   ]
  }
 ],
 "metadata": {
  "environment": {
   "kernel": "python3",
   "name": "tf2-gpu.2-8.m93",
   "type": "gcloud",
   "uri": "gcr.io/deeplearning-platform-release/tf2-gpu.2-8:m93"
  },
  "kernelspec": {
   "display_name": "Python 3",
   "language": "python",
   "name": "python3"
  },
  "language_info": {
   "codemirror_mode": {
    "name": "ipython",
    "version": 3
   },
   "file_extension": ".py",
   "mimetype": "text/x-python",
   "name": "python",
   "nbconvert_exporter": "python",
   "pygments_lexer": "ipython3",
   "version": "3.7.12"
  }
 },
 "nbformat": 4,
 "nbformat_minor": 5
}
