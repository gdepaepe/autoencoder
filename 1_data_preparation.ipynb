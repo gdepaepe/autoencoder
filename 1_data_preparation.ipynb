{
 "cells": [
  {
   "cell_type": "markdown",
   "id": "2a6d7b96-aeaf-47a9-92cb-5e7364786b78",
   "metadata": {},
   "source": [
    "# 1. Data Preparation"
   ]
  },
  {
   "cell_type": "markdown",
   "id": "aa82db71-b05e-4fd6-8e26-2f30d9444160",
   "metadata": {
    "tags": []
   },
   "source": [
    "## Dataset files\n",
    "The used dataset files have 256x128 Gaussian gridpoints covering the whole earth for 40542 days (1/1/1900 to 31/12/2010):\n",
    "- Mean sea level pressure: https://climexp.knmi.nl/ERA-20C/era20c_msl_daily.nc\n",
    "- 500 hPa geopotential height: https://climexp.knmi.nl/ERA-20C/era20c_z500_daily.nc\n",
    "\n",
    "These files are stored in a \"data\" submap and imported with the netCDF4 library, after installing it with 'pip install netCDF4'. "
   ]
  },
  {
   "cell_type": "code",
   "execution_count": 15,
   "id": "20ceea8b-38dd-4e35-a99f-d9138966f471",
   "metadata": {},
   "outputs": [
    {
     "name": "stdout",
     "output_type": "stream",
     "text": [
      "dict_keys(['longitude', 'latitude', 'time', 'msl'])\n",
      "<class 'netCDF4._netCDF4.Variable'>\n",
      "float32 msl(time, latitude, longitude)\n",
      "    standard_name: air_pressure_at_sea_level\n",
      "    long_name: Mean sea level pressure\n",
      "    units: Pa\n",
      "    grid_type: gaussian\n",
      "    _FillValue: -32767.0\n",
      "    missing_value: -32767.0\n",
      "unlimited dimensions: time\n",
      "current shape = (40542, 128, 256)\n",
      "filling on\n",
      "dict_keys(['longitude', 'latitude', 'time', 'z500'])\n",
      "<class 'netCDF4._netCDF4.Variable'>\n",
      "float32 z500(time, latitude, longitude)\n",
      "    standard_name: geopotential\n",
      "    long_name: Geopotential\n",
      "    units: m**2 s**-2\n",
      "    grid_type: gaussian\n",
      "    _FillValue: -32767.0\n",
      "    missing_value: -32767.0\n",
      "unlimited dimensions: time\n",
      "current shape = (40542, 128, 256)\n",
      "filling on\n"
     ]
    }
   ],
   "source": [
    "import netCDF4 as nc\n",
    "for dataset in [\"msl\",\"z500\"]:\n",
    "    df = nc.Dataset(\"data/era20c_\" + dataset + \"_daily.nc\",'r')\n",
    "    print(df.variables.keys())\n",
    "    print(df[dataset])"
   ]
  },
  {
   "cell_type": "markdown",
   "id": "db6619e7-2e36-470e-b038-72bb2eaff893",
   "metadata": {},
   "source": [
    "## Cut the region of interest\n",
    "\n",
    "The region of interest is Europe and the North-Atlantic (70N-25N,58W-33E) and is choosen so that the latitute/longitude dimensions are a power of 2 (32x64). The zone metadata is saved in a numpy array."
   ]
  },
  {
   "cell_type": "code",
   "execution_count": 19,
   "id": "8a9196d2-e2e4-4c6d-b151-81fe3730c50a",
   "metadata": {},
   "outputs": [
    {
     "name": "stdout",
     "output_type": "stream",
     "text": [
      "(40542, 32, 64)\n",
      "(40542, 32, 64)\n"
     ]
    }
   ],
   "source": [
    "import numpy as np\n",
    "zone=np.array([70.,25.,-58.,33.])\n",
    "for dataset in [\"msl\",\"z500\"]:\n",
    "    df = nc.Dataset(\"data/era20c_\" + dataset + \"_daily.nc\",'r')\n",
    "    east = np.array(df[dataset][:,int((90-zone[0])*128/180):int((90-zone[1])*128/180),0:int(zone[3]*256/360)])  # 70->25N, 0->33E\n",
    "    west = np.array(df[dataset][:,int((90-zone[0])*128/180):int((90-zone[1])*128/180),int(zone[2]*256/360):])   # 70->25N, 58W->0\n",
    "    data = np.concatenate((west,east),axis=2)\n",
    "    print(data.shape)\n",
    "    np.save(\"data/\" + dataset + \".npy\", data)\n",
    "np.save(\"data/zone.npy\", zone)"
   ]
  },
  {
   "cell_type": "markdown",
   "id": "28da9892-6f55-4686-98ef-3a525bfb0797",
   "metadata": {
    "tags": []
   },
   "source": [
    "## Creating the ML dataset\n",
    "\n",
    "The msl and z500 data is scaled and saved in one numpy array with shape (40542,32,64,2). The last dimension are the 2 channels, msl and z500, which will be used by the convolute layer of the neural network. The scaling factors are saved in a npy file."
   ]
  },
  {
   "cell_type": "code",
   "execution_count": 21,
   "id": "70f4151c-74bf-44e3-b69f-bc61f8695144",
   "metadata": {},
   "outputs": [
    {
     "name": "stdout",
     "output_type": "stream",
     "text": [
      "(40542, 32, 64, 2)\n"
     ]
    }
   ],
   "source": [
    "msl = np.load(\"data/msl.npy\")\n",
    "z500 = np.load(\"data/z500.npy\")\n",
    "# scale data so that 99,99% is in [0,1]\n",
    "scale = np.array([[94000,107000],[43000,58000]])\n",
    "msl = (msl - scale[0,0]) / (scale[0,1] - scale[0,0])\n",
    "z500 = (z500 - scale[1,0]) / (scale[1,1] - scale[1,0])\n",
    "data = np.zeros((msl.shape[0],msl.shape[1],msl.shape[2],2))\n",
    "data[:,:,:,0] = msl\n",
    "data[:,:,:,1] = z500\n",
    "print(data.shape)\n",
    "np.save(\"data/data.npy\", data)\n",
    "np.save(\"data/scale.npy\", scale)"
   ]
  },
  {
   "cell_type": "markdown",
   "id": "e9eb6a70-d09e-442e-bddf-7f01d2f139d9",
   "metadata": {},
   "source": [
    "## Create date list"
   ]
  },
  {
   "cell_type": "code",
   "execution_count": 26,
   "id": "d071c2c3-6962-43c3-93b6-02f71c77bc21",
   "metadata": {},
   "outputs": [
    {
     "name": "stdout",
     "output_type": "stream",
     "text": [
      "40542 days:  1900 1 1  ->  2010 12 31\n"
     ]
    }
   ],
   "source": [
    "import numpy as np\n",
    "import datetime\n",
    "base = datetime.datetime.strptime(\"01-01-1900\", \"%d-%m-%Y\")\n",
    "dates = [(base + datetime.timedelta(days=x)).strftime(\"%Y %-m %-d\") for x in range(msl.shape[0])]\n",
    "np.save(\"data/dates.npy\", dates)\n",
    "print(len(dates),\"days: \",dates[0],\" -> \", dates[-1])"
   ]
  }
 ],
 "metadata": {
  "kernelspec": {
   "display_name": "Python 3 (ipykernel)",
   "language": "python",
   "name": "python3"
  },
  "language_info": {
   "codemirror_mode": {
    "name": "ipython",
    "version": 3
   },
   "file_extension": ".py",
   "mimetype": "text/x-python",
   "name": "python",
   "nbconvert_exporter": "python",
   "pygments_lexer": "ipython3",
   "version": "3.8.10"
  }
 },
 "nbformat": 4,
 "nbformat_minor": 5
}
