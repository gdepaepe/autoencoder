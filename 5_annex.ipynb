{
 "cells": [
  {
   "cell_type": "markdown",
   "id": "19644e09-9f02-45ff-9a3d-79e77ec28e61",
   "metadata": {},
   "source": [
    "# 5. Annex"
   ]
  },
  {
   "cell_type": "markdown",
   "id": "ac6e9797-f3de-4de0-8bf4-fd808e265422",
   "metadata": {},
   "source": [
    "## 5.1 Installing the toolkit\n",
    "sudo apt-get update\\\n",
    "sudo apt-get install python3-pip\\\n",
    "sudo apt-get install build-essential python3-dev\\\n",
    "sudo apt-get install python3-setuptools python3-numpy\\\n",
    "sudo apt-get install python3-matplotlib\\\n",
    "pip3 install tensorflow\\\n",
    "pip3 install h5py\\\n",
    "pip3 install keras\\\n",
    "pip3 install netCDF4"
   ]
  },
  {
   "cell_type": "markdown",
   "id": "d96eda30-6696-47db-b7f7-f1c43560a878",
   "metadata": {},
   "source": [
    "## 5.2 Plotting"
   ]
  },
  {
   "cell_type": "markdown",
   "id": "a1060d23-a69f-4056-b97c-a5c39233fe0d",
   "metadata": {},
   "source": [
    "The isoplot.py file is imported as a library."
   ]
  }
 ],
 "metadata": {
  "kernelspec": {
   "display_name": "Python 3 (ipykernel)",
   "language": "python",
   "name": "python3"
  },
  "language_info": {
   "codemirror_mode": {
    "name": "ipython",
    "version": 3
   },
   "file_extension": ".py",
   "mimetype": "text/x-python",
   "name": "python",
   "nbconvert_exporter": "python",
   "pygments_lexer": "ipython3",
   "version": "3.8.10"
  }
 },
 "nbformat": 4,
 "nbformat_minor": 5
}
