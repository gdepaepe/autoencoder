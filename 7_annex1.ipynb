{
 "cells": [
  {
   "cell_type": "markdown",
   "id": "19644e09-9f02-45ff-9a3d-79e77ec28e61",
   "metadata": {},
   "source": [
    "# 6. Annex"
   ]
  },
  {
   "cell_type": "markdown",
   "id": "ac6e9797-f3de-4de0-8bf4-fd808e265422",
   "metadata": {},
   "source": [
    "## 6.1 Installing the toolkit\n",
    "\n",
    "In this project Python, Jupyter Lab, Tensorflow and Keras are used together with some other libraries. In Ubuntu 20.4, these can be installed by:\n"
   ]
  },
  {
   "cell_type": "markdown",
   "id": "422b1538-c6bc-405d-99cf-641036e8c3a7",
   "metadata": {},
   "source": [
    "sudo apt-get update\\\n",
    "sudo apt-get install python3-pip\\\n",
    "sudo apt-get install build-essential python3-dev\\\n",
    "sudo apt-get install python3-setuptools python3-numpy\\\n",
    "sudo apt-get install python3-matplotlib\\\n",
    "pip3 install tensorflow\\\n",
    "pip3 install tensorboard\\\n",
    "pip3 install jupyterlab\\\n",
    "pip3 install h5py\\\n",
    "pip3 install keras\\\n",
    "pip3 install netCDF4"
   ]
  },
  {
   "cell_type": "markdown",
   "id": "d96eda30-6696-47db-b7f7-f1c43560a878",
   "metadata": {},
   "source": [
    "## 6.2 Plotting"
   ]
  },
  {
   "cell_type": "markdown",
   "id": "a1060d23-a69f-4056-b97c-a5c39233fe0d",
   "metadata": {},
   "source": [
    "The isoplot.py file is imported in the notebooks as a library."
   ]
  },
  {
   "cell_type": "code",
   "execution_count": 1,
   "id": "1d7c788b-b816-4f09-8f9c-1e61b9d0caa0",
   "metadata": {},
   "outputs": [],
   "source": [
    "# %load isoplot.py\n",
    "#!/usr/bin/env python3\n",
    "\n",
    "import matplotlib.pyplot as plt\n",
    "import numpy as np\n",
    "\n",
    "def isoplot(z1,z2,legend1,legend2, zone=[60,25,-65,50], scale=[0,1], title='MSL [hPa]'):\n",
    "    left, bottom, width, height = 0.1, 0.1, 0.8, 0.8\n",
    "    \n",
    "    z1 = ( z1 * (scale[1]-scale[0]) + scale[0] ) / 100\n",
    "    z2 = ( z2 * (scale[1]-scale[0]) + scale[0] ) / 100\n",
    "\n",
    "    x_vals = np.linspace(zone[2], zone[3], z1.shape[1])\n",
    "    y_vals = np.linspace(zone[1], zone[0], z1.shape[0])\n",
    "    x, y = np.meshgrid(x_vals, y_vals)\n",
    "\n",
    "    fig = plt.figure(figsize=(12,4))\n",
    "    ax = fig.add_axes([left, bottom, width, height]) \n",
    "    cp1 = plt.contour( x, y, z1[::-1], colors='red')\n",
    "    cp2 = plt.contour( x, y, z2[::-1], colors='blue')\n",
    "    \n",
    "    ax.clabel(cp1, inline=True, fontsize=10)\n",
    "    ax.clabel(cp2, inline=True, fontsize=10)\n",
    "    ax.set_title(title)\n",
    "    ax.set_xlabel('degrees')\n",
    "    ax.set_ylabel('degrees')\n",
    "    \n",
    "    h1,_ = cp1.legend_elements()\n",
    "    h2,_ = cp2.legend_elements()\n",
    "    ax.legend([h1[0], h2[0]], [legend1, legend2])\n",
    "\n",
    "    plt.show()\n",
    "\n",
    "if __name__ == \"__main__\":\n",
    "    x=np.load(\"data/era20c.npy\")\n",
    "    z=np.load(\"data/zone.npy\")\n",
    "    s=np.load(\"data/scale.npy\")\n",
    "    x0=x[24,:,:,0]\n",
    "    x1=x[25,:,:,0]\n",
    "    isoplot(x1,x0,\"test\",\"test\",z,s[0])"
   ]
  }
 ],
 "metadata": {
  "environment": {
   "kernel": "python3",
   "name": "tf2-gpu.2-8.m93",
   "type": "gcloud",
   "uri": "gcr.io/deeplearning-platform-release/tf2-gpu.2-8:m93"
  },
  "kernelspec": {
   "display_name": "Python 3",
   "language": "python",
   "name": "python3"
  },
  "language_info": {
   "codemirror_mode": {
    "name": "ipython",
    "version": 3
   },
   "file_extension": ".py",
   "mimetype": "text/x-python",
   "name": "python",
   "nbconvert_exporter": "python",
   "pygments_lexer": "ipython3",
   "version": "3.7.12"
  }
 },
 "nbformat": 4,
 "nbformat_minor": 5
}
