{
 "cells": [
  {
   "cell_type": "markdown",
   "id": "34009786-ce3f-4661-9d4b-14877b3459f9",
   "metadata": {},
   "source": [
    "## 9. References\n",
    "- Abadi, M., Agarwal, A., Barham, P., Brevdo, E., Brevdo, Z., Citro, C., et al. (2015). TensorFlow: Large-scale machine learning onheterogeneous systems. Retrieved from https://www.tensorflow.org/ \n",
    "- Chattopadhyay A., Hassanzadeh P, Pasha S. (2020) Predicting clustered weather patterns. A test case for applications of convolutional neural networks to spatio-temporal climate data, Sci Rep 10, 1317\n",
    "- Chollet, F. (2015). Keras. https://keras.io\n",
    "- Neal R., Fereday D., Crocker R., E. Comer R. E. (2016) A flexible approach to defining weather patterns and their application in weather forecasting over Europe, Met. Apps. 23, 389-400\n",
    "- Schultz M. G., Betancourt C., Gong B., Kleinert F., Langguth M., Leufen L. H., Mozaffari A. and Stadtler S. (2021) Can deep learning beat numerical weather prediction? Phil. Trans. R. Soc. A.379: 20200097\n",
    "- Weyn J. A., Durran D. R., Rich Caruana R. (2019) Can Machines Learn to Predict Weather? Using Deep Learning to Predict Gridded 500-hPa Geopotential Height From Historical Weather Data, James 11, 2680-2693\n",
    "\n"
   ]
  }
 ],
 "metadata": {
  "environment": {
   "kernel": "python3",
   "name": "tf2-gpu.2-8.m93",
   "type": "gcloud",
   "uri": "gcr.io/deeplearning-platform-release/tf2-gpu.2-8:m93"
  },
  "kernelspec": {
   "display_name": "Python 3",
   "language": "python",
   "name": "python3"
  },
  "language_info": {
   "codemirror_mode": {
    "name": "ipython",
    "version": 3
   },
   "file_extension": ".py",
   "mimetype": "text/x-python",
   "name": "python",
   "nbconvert_exporter": "python",
   "pygments_lexer": "ipython3",
   "version": "3.7.12"
  }
 },
 "nbformat": 4,
 "nbformat_minor": 5
}
