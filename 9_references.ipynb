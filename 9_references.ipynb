{
 "cells": [
  {
   "cell_type": "markdown",
   "id": "34009786-ce3f-4661-9d4b-14877b3459f9",
   "metadata": {},
   "source": [
    "## 9. References\n",
    "1. Abadi, M., Agarwal, A., Barham, P., Brevdo, E., Brevdo, Z., Citro, C., et al. (2015). TensorFlow: Large-scale machine learning onheterogeneous systems. Retrieved from https://www.tensorflow.org/ \n",
    "2. Chattopadhyay A., Hassanzadeh P, Pasha S. (2020). Predicting clustered weather patterns. A test case for applications of convolutional neural networks to spatio-temporal climate data, Sci Rep 10, 1317\n",
    "3. Chollet, F. (2015). Keras. https://keras.io\n",
    "4. Neal R., Fereday D., Crocker R., E. Comer R. E. (2016). A flexible approach to defining weather patterns and their application in weather forecasting over Europe, Met. Apps. 23, 389-400\n",
    "5. Poli, P., Hersbach, H., Dee, D. P., Berrisford, P., Simmons, A. J., Vitart, F., Laloyaux, P., Tan, D. G. H., Peubey, C., Thépaut, J., Trémolet, Y., Hólm, E. V., Bonavita, M., Isaksen, L., & Fisher, M. (2016). ERA-20C: An Atmospheric Reanalysis of the Twentieth Century, Journal of Climate, 29(11), 4083-4097\n",
    "6. Schultz M. G., Betancourt C., Gong B., Kleinert F., Langguth M., Leufen L. H., Mozaffari A. and Stadtler S. (2021). Can deep learning beat numerical weather prediction? Phil. Trans. R. Soc. A.379: 20200097\n",
    "7. Weyn J. A., Durran D. R., Caruana R. (2019). Can Machines Learn to Predict Weather? Using Deep Learning to Predict Gridded 500-hPa Geopotential Height From Historical Weather Data, J Adv Model Earth Syst 11, 2680-2693\n"
   ]
  }
 ],
 "metadata": {
  "environment": {
   "kernel": "python3",
   "name": "tf2-gpu.2-8.m93",
   "type": "gcloud",
   "uri": "gcr.io/deeplearning-platform-release/tf2-gpu.2-8:m93"
  },
  "kernelspec": {
   "display_name": "Python 3",
   "language": "python",
   "name": "python3"
  },
  "language_info": {
   "codemirror_mode": {
    "name": "ipython",
    "version": 3
   },
   "file_extension": ".py",
   "mimetype": "text/x-python",
   "name": "python",
   "nbconvert_exporter": "python",
   "pygments_lexer": "ipython3",
   "version": "3.7.12"
  }
 },
 "nbformat": 4,
 "nbformat_minor": 5
}
